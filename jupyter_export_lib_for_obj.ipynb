{
 "cells": [
  {
   "cell_type": "code",
   "execution_count": 1,
   "metadata": {},
   "outputs": [
    {
     "name": "stdout",
     "output_type": "stream",
     "text": [
      "['List', 'obj', 'rl78cm4s.lib', 'rlink.exe']\n",
      "Export lib Name:obj\n",
      "\n"
     ]
    },
    {
     "name": "stderr",
     "output_type": "stream",
     "text": [
      "\n",
      "Renesas Optimizing Linker W3.03.00  [01 Oct 2020]\n",
      "   Copyright (C) 2011, 2020 Renesas Electronics Corporation\n",
      "\n",
      "W0561014:License manager is not installed\n",
      "F0563300:Cannot open file : \"./RL78_LIB/obj.lib\"\n",
      "\n",
      "Renesas Optimizing Linker Abort\n",
      "\n",
      "Renesas Optimizing Linker W3.03.00  [01 Oct 2020]\n",
      "   Copyright (C) 2011, 2020 Renesas Electronics Corporation\n",
      "\n",
      "W0561014:License manager is not installed\n",
      "E0562010:Option \"extract\" requires parameter\n",
      "F0563300:Cannot open file : \"./RL78_LIB/obj.lib\"\n",
      "\n",
      "Renesas Optimizing Linker Abort\n",
      "\n",
      "Renesas Optimizing Linker W3.03.00  [01 Oct 2020]\n",
      "   Copyright (C) 2011, 2020 Renesas Electronics Corporation\n"
     ]
    },
    {
     "name": "stdout",
     "output_type": "stream",
     "text": [
      "Export lib Name:rl78cm4s.lib\n",
      "abort,abs,acos,acosf,asin,asinf,atan,atan2,atan2f,atanf,atof,atoff,atoi,atol,bsearch,ceil,ceilf,cos,cosf,cosh,coshf,div,errno,exp,expf,fabs,fabsf,floor,floorf,fmod,fmodf,frexp,frexpf,getchar,gets,isalnum,isalpha,isascii,iscntrl,isdigit,isgraph,islower,isprint,ispunct,isspace,isupper,isxdigit,labs,ldexp,ldexpf,ldiv,log,log10,log10f,logf,longjmp,memchr,memcmp,memmove,modf,modff,perror,pi4dtable,pow,powf,printf,printf_tiny,putchar,puts,qsort,rand,renesas_version_copyright_rl78cm4s,scanf,setjmp,sin,sinf,sinh,sinhf,sprintf,sprintf_tiny,sqrt,sqrtf,sscanf,strcat,strchr,strcmp,strcpy,strcspn,strerror,strlen,strncat,strncmp,strncpy,strpbrk,strrchr,strspn,strstr,strtod,strtof,strtok,strtol,strtoul,tan,tanf,tanh,tanhf,toascii,tolower,toupper,vprintf,vsprintf,_COM_atoff_f,_COM_atof_f,_COM_atoi_f,_COM_atol_f,_COM_bsearch_f,_COM_gets_f,_COM_memchr_f,_COM_memcmp_ff,_COM_memmove_ff,_COM_perror_f,_COM_puts_f,_COM_qsort_f,_COM_strcat_ff,_COM_strchr_f,_COM_strcmp_ff,_COM_strcpy_ff,_COM_strcspn_ff,_COM_strlen_f,_COM_strncat_ff,_COM_strncmp_ff,_COM_strncpy_ff,_COM_strpbrk_ff,_COM_strrchr_f,_COM_strspn_ff,_COM_strstr_ff,_COM_strtod_ff,_COM_strtof_ff,_COM_strtol_ff,_COM_strtoul_ff,_REL_app_atand,_REL_app_atans,_REL_asincosfsub,_REL_in_atan2d,_REL_in_atan2s,_REL_in_atand,_REL_in_atans,_REL_in_ceild,_REL_in_ceils,_REL_in_expd,_REL_in_exps,_REL_in_floord,_REL_in_floors,_REL_in_fmodd,_REL_in_fmods,_REL_in_ldexpd,_REL_in_ldexps,_REL_in_logd,_REL_in_logs,_REL_in_modfd,_REL_in_modfs,_REL_in_powd,_REL_in_pows,_REL_logd_special,_REL_logf_special,_REL_nand_value,_REL_nanf_value,_REL_neginfd_value,_REL_neginff_value,_REL_posinfd_value,_REL_posinff_value,_REL_print,_REL_print_tiny,_REL_scan,_REL_sincosdsub,_REL_sincosfsub\n"
     ]
    },
    {
     "name": "stderr",
     "output_type": "stream",
     "text": [
      "\n",
      "W0561014:License manager is not installed\n",
      "W0561016:The evaluation version is valid for the remaining 57 days\n",
      "\n",
      "Renesas Optimizing Linker Completed\n",
      "\n",
      "Renesas Optimizing Linker W3.03.00  [01 Oct 2020]\n",
      "   Copyright (C) 2011, 2020 Renesas Electronics Corporation\n",
      "\n",
      "W0561014:License manager is not installed\n",
      "W0561016:The evaluation version is valid for the remaining 57 days\n",
      "\n",
      "Renesas Optimizing Linker Completed\n"
     ]
    }
   ],
   "source": [
    "libnames = !dir /b \"./RL78_LIB\"\n",
    "print libnames\n",
    "\n",
    "for libname in libnames:\n",
    "    if libname != \"List\" and libname !=\"rlink.exe\":\n",
    "        !\"./RL78_LIB/rlink\" -library=./RL78_LIB/{libname} -form=library -list=./RL78_LIB/List/{libname}.lbp\n",
    "\n",
    "        listfile = \"./RL78_LIB/List/\" + libname + \".lbp\"\n",
    "        startline = False\n",
    "        objname = \"\"\n",
    "        print \"Export lib Name:\" + libname\n",
    "        with open(listfile) as f:\n",
    "            lines = f.readlines()\n",
    "            for line in lines:\n",
    "                #print line\n",
    "                if line.find(\"SYMBOL\") > 0:\n",
    "                    startline = True\n",
    "                if startline:\n",
    "                    if line[0] <> \" \":\n",
    "                        #print line\n",
    "                        objname = objname  + line[:-1] + \",\"\n",
    "            print objname[1:-1]\n",
    "            objname = objname[1:-1]\n",
    "            !\"./RL78_LIB/rlink\" -library=./RL78_LIB/{libname}  -extract={objname} -form=obj"
   ]
  },
  {
   "cell_type": "code",
   "execution_count": null,
   "metadata": {},
   "outputs": [],
   "source": [
    " !./RL78_LIB/rlink"
   ]
  }
 ],
 "metadata": {
  "kernelspec": {
   "display_name": "Python 2",
   "language": "python",
   "name": "python2"
  },
  "language_info": {
   "codemirror_mode": {
    "name": "ipython",
    "version": 2
   },
   "file_extension": ".py",
   "mimetype": "text/x-python",
   "name": "python",
   "nbconvert_exporter": "python",
   "pygments_lexer": "ipython2",
   "version": "2.7.16"
  }
 },
 "nbformat": 4,
 "nbformat_minor": 2
}
